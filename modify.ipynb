{
 "cells": [
  {
   "cell_type": "code",
   "execution_count": 1,
   "id": "6bac6c4f-d34a-4d2f-8630-5920ef90551c",
   "metadata": {},
   "outputs": [],
   "source": [
    "import pandas as pd\n"
   ]
  },
  {
   "cell_type": "code",
   "execution_count": 2,
   "id": "4cff84cb-2672-4bc0-b817-75f6a91f75e5",
   "metadata": {},
   "outputs": [],
   "source": [
    "df = pd.read_json(\"output.json\")"
   ]
  },
  {
   "cell_type": "code",
   "execution_count": 3,
   "id": "32f0bb54-0e26-4d8f-8205-f2c67d62ba18",
   "metadata": {},
   "outputs": [
    {
     "data": {
      "text/html": [
       "<div>\n",
       "<style scoped>\n",
       "    .dataframe tbody tr th:only-of-type {\n",
       "        vertical-align: middle;\n",
       "    }\n",
       "\n",
       "    .dataframe tbody tr th {\n",
       "        vertical-align: top;\n",
       "    }\n",
       "\n",
       "    .dataframe thead th {\n",
       "        text-align: right;\n",
       "    }\n",
       "</style>\n",
       "<table border=\"1\" class=\"dataframe\">\n",
       "  <thead>\n",
       "    <tr style=\"text-align: right;\">\n",
       "      <th></th>\n",
       "      <th>Name</th>\n",
       "      <th>About</th>\n",
       "      <th>Embedding</th>\n",
       "    </tr>\n",
       "  </thead>\n",
       "  <tbody>\n",
       "    <tr>\n",
       "      <th>0</th>\n",
       "      <td>Lucas Bloms</td>\n",
       "      <td>Personal Trainer with 10+ years of experience ...</td>\n",
       "      <td>[-0.014582630000000001, -0.021121461, 0.008614...</td>\n",
       "    </tr>\n",
       "    <tr>\n",
       "      <th>1</th>\n",
       "      <td>Sanne Vloet</td>\n",
       "      <td>I’m Sanne Vloet, a model, trainer and certifie...</td>\n",
       "      <td>[-0.0034334245, -0.016254608, 0.01348423400000...</td>\n",
       "    </tr>\n",
       "    <tr>\n",
       "      <th>2</th>\n",
       "      <td>Kesaine Walker</td>\n",
       "      <td>Kesaine is an energy healer and intuitive spir...</td>\n",
       "      <td>[-0.0003878983, -0.0013050548, -0.012857019, -...</td>\n",
       "    </tr>\n",
       "    <tr>\n",
       "      <th>3</th>\n",
       "      <td>Emma Mumford</td>\n",
       "      <td>UK’s leading Law of Attraction expert. Award-w...</td>\n",
       "      <td>[-0.010802264, -0.0051898966000000005, -0.0063...</td>\n",
       "    </tr>\n",
       "    <tr>\n",
       "      <th>4</th>\n",
       "      <td>Natalie Holbrook</td>\n",
       "      <td>🪩ASTROLOGY FOR SALES x BUSINESS MENTORING🪩\\n\\n...</td>\n",
       "      <td>[-0.01028617, -0.03188188, -0.00796391, -0.029...</td>\n",
       "    </tr>\n",
       "  </tbody>\n",
       "</table>\n",
       "</div>"
      ],
      "text/plain": [
       "               Name                                              About  \\\n",
       "0       Lucas Bloms  Personal Trainer with 10+ years of experience ...   \n",
       "1       Sanne Vloet  I’m Sanne Vloet, a model, trainer and certifie...   \n",
       "2    Kesaine Walker  Kesaine is an energy healer and intuitive spir...   \n",
       "3      Emma Mumford  UK’s leading Law of Attraction expert. Award-w...   \n",
       "4  Natalie Holbrook  🪩ASTROLOGY FOR SALES x BUSINESS MENTORING🪩\\n\\n...   \n",
       "\n",
       "                                           Embedding  \n",
       "0  [-0.014582630000000001, -0.021121461, 0.008614...  \n",
       "1  [-0.0034334245, -0.016254608, 0.01348423400000...  \n",
       "2  [-0.0003878983, -0.0013050548, -0.012857019, -...  \n",
       "3  [-0.010802264, -0.0051898966000000005, -0.0063...  \n",
       "4  [-0.01028617, -0.03188188, -0.00796391, -0.029...  "
      ]
     },
     "execution_count": 3,
     "metadata": {},
     "output_type": "execute_result"
    }
   ],
   "source": [
    "df.head()"
   ]
  },
  {
   "cell_type": "code",
   "execution_count": 4,
   "id": "c4ea596e-e162-4635-87ab-4d7abb7d6c78",
   "metadata": {},
   "outputs": [],
   "source": [
    "data = df[[\"Name\", \"Embedding\"]]"
   ]
  },
  {
   "cell_type": "code",
   "execution_count": 5,
   "id": "aa54d80e-f370-4383-9acc-531d1f1e5d5d",
   "metadata": {},
   "outputs": [
    {
     "data": {
      "text/html": [
       "<div>\n",
       "<style scoped>\n",
       "    .dataframe tbody tr th:only-of-type {\n",
       "        vertical-align: middle;\n",
       "    }\n",
       "\n",
       "    .dataframe tbody tr th {\n",
       "        vertical-align: top;\n",
       "    }\n",
       "\n",
       "    .dataframe thead th {\n",
       "        text-align: right;\n",
       "    }\n",
       "</style>\n",
       "<table border=\"1\" class=\"dataframe\">\n",
       "  <thead>\n",
       "    <tr style=\"text-align: right;\">\n",
       "      <th></th>\n",
       "      <th>Name</th>\n",
       "      <th>Embedding</th>\n",
       "    </tr>\n",
       "  </thead>\n",
       "  <tbody>\n",
       "    <tr>\n",
       "      <th>0</th>\n",
       "      <td>Lucas Bloms</td>\n",
       "      <td>[-0.014582630000000001, -0.021121461, 0.008614...</td>\n",
       "    </tr>\n",
       "    <tr>\n",
       "      <th>1</th>\n",
       "      <td>Sanne Vloet</td>\n",
       "      <td>[-0.0034334245, -0.016254608, 0.01348423400000...</td>\n",
       "    </tr>\n",
       "    <tr>\n",
       "      <th>2</th>\n",
       "      <td>Kesaine Walker</td>\n",
       "      <td>[-0.0003878983, -0.0013050548, -0.012857019, -...</td>\n",
       "    </tr>\n",
       "    <tr>\n",
       "      <th>3</th>\n",
       "      <td>Emma Mumford</td>\n",
       "      <td>[-0.010802264, -0.0051898966000000005, -0.0063...</td>\n",
       "    </tr>\n",
       "    <tr>\n",
       "      <th>4</th>\n",
       "      <td>Natalie Holbrook</td>\n",
       "      <td>[-0.01028617, -0.03188188, -0.00796391, -0.029...</td>\n",
       "    </tr>\n",
       "  </tbody>\n",
       "</table>\n",
       "</div>"
      ],
      "text/plain": [
       "               Name                                          Embedding\n",
       "0       Lucas Bloms  [-0.014582630000000001, -0.021121461, 0.008614...\n",
       "1       Sanne Vloet  [-0.0034334245, -0.016254608, 0.01348423400000...\n",
       "2    Kesaine Walker  [-0.0003878983, -0.0013050548, -0.012857019, -...\n",
       "3      Emma Mumford  [-0.010802264, -0.0051898966000000005, -0.0063...\n",
       "4  Natalie Holbrook  [-0.01028617, -0.03188188, -0.00796391, -0.029..."
      ]
     },
     "execution_count": 5,
     "metadata": {},
     "output_type": "execute_result"
    }
   ],
   "source": [
    "data.head()"
   ]
  },
  {
   "cell_type": "code",
   "execution_count": 6,
   "id": "88993440-3ea8-4269-8f19-2e3a3e3b1185",
   "metadata": {},
   "outputs": [],
   "source": [
    "data.to_json(\"modified_out.json\",  orient='records')"
   ]
  },
  {
   "cell_type": "code",
   "execution_count": null,
   "id": "e2c3fa2a-8c6e-4389-ba06-43b910695512",
   "metadata": {},
   "outputs": [],
   "source": []
  }
 ],
 "metadata": {
  "kernelspec": {
   "display_name": "Python 3 (ipykernel)",
   "language": "python",
   "name": "python3"
  },
  "language_info": {
   "codemirror_mode": {
    "name": "ipython",
    "version": 3
   },
   "file_extension": ".py",
   "mimetype": "text/x-python",
   "name": "python",
   "nbconvert_exporter": "python",
   "pygments_lexer": "ipython3",
   "version": "3.8.10"
  }
 },
 "nbformat": 4,
 "nbformat_minor": 5
}
